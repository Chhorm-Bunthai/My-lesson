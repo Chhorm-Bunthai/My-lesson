{
 "cells": [
  {
   "cell_type": "code",
   "execution_count": 3,
   "id": "60afc244",
   "metadata": {},
   "outputs": [
    {
     "name": "stdout",
     "output_type": "stream",
     "text": [
      "Please enter your name :Bunthai\n",
      "Please enter your weight :62\n",
      "Please enter your height :1.68\n",
      "Your BMI is 21.9671201814059\n",
      "Thank you!\n"
     ]
    }
   ],
   "source": [
    "name= input('Please enter your name :')\n",
    "weight= int(input('Please enter your weight :'))\n",
    "height = float(input('Please enter your height :'))\n",
    "BMI= weight / height ** 2\n",
    "print('Your BMI is {}'.format(BMI))\n",
    "print('Thank you!')"
   ]
  },
  {
   "cell_type": "code",
   "execution_count": 5,
   "id": "d5e68827",
   "metadata": {},
   "outputs": [
    {
     "name": "stdout",
     "output_type": "stream",
     "text": [
      "Please input the radius :11\n",
      "Circumference is 69.115024, Area is 380.132632\n"
     ]
    }
   ],
   "source": [
    "pi=3.141592\n",
    "radius= int(input('Please input the radius :'))\n",
    "circurference = 2 * pi * radius\n",
    "area = pi * (radius ** 2)\n",
    "print(\"Circumference is {}, Area is {}\".format(circurference,area))"
   ]
  },
  {
   "cell_type": "code",
   "execution_count": null,
   "id": "3b72953d",
   "metadata": {},
   "outputs": [],
   "source": [
    "a=int(input('Please ent'))"
   ]
  }
 ],
 "metadata": {
  "kernelspec": {
   "display_name": "Python 3 (ipykernel)",
   "language": "python",
   "name": "python3"
  },
  "language_info": {
   "codemirror_mode": {
    "name": "ipython",
    "version": 3
   },
   "file_extension": ".py",
   "mimetype": "text/x-python",
   "name": "python",
   "nbconvert_exporter": "python",
   "pygments_lexer": "ipython3",
   "version": "3.10.9"
  }
 },
 "nbformat": 4,
 "nbformat_minor": 5
}
