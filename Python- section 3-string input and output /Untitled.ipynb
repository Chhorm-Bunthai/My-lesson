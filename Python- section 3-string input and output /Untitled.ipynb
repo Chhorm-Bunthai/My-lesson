{
 "cells": [
  {
   "cell_type": "code",
   "execution_count": 1,
   "id": "5808ff8d",
   "metadata": {},
   "outputs": [
    {
     "name": "stdout",
     "output_type": "stream",
     "text": [
      "Hello word\n"
     ]
    }
   ],
   "source": [
    "print(\"Hello word\")"
   ]
  },
  {
   "cell_type": "code",
   "execution_count": 2,
   "id": "93935d70",
   "metadata": {},
   "outputs": [
    {
     "ename": "NameError",
     "evalue": "name 'python' is not defined",
     "output_type": "error",
     "traceback": [
      "\u001b[0;31m---------------------------------------------------------------------------\u001b[0m",
      "\u001b[0;31mNameError\u001b[0m                                 Traceback (most recent call last)",
      "Cell \u001b[0;32mIn[2], line 1\u001b[0m\n\u001b[0;32m----> 1\u001b[0m \u001b[43mpython\u001b[49m \u001b[38;5;241m*\u001b[39m \u001b[38;5;241m10\u001b[39m\n",
      "\u001b[0;31mNameError\u001b[0m: name 'python' is not defined"
     ]
    }
   ],
   "source": [
    "python * 10\n"
   ]
  },
  {
   "cell_type": "code",
   "execution_count": 3,
   "id": "964ce405",
   "metadata": {},
   "outputs": [
    {
     "data": {
      "text/plain": [
       "'pythonpythonpythonpythonpythonpythonpythonpythonpythonpython'"
      ]
     },
     "execution_count": 3,
     "metadata": {},
     "output_type": "execute_result"
    }
   ],
   "source": [
    "'python' * 10\n"
   ]
  },
  {
   "cell_type": "code",
   "execution_count": 4,
   "id": "fc9b59de",
   "metadata": {},
   "outputs": [
    {
     "data": {
      "text/plain": [
       "'100100100100100100100100100100'"
      ]
     },
     "execution_count": 4,
     "metadata": {},
     "output_type": "execute_result"
    }
   ],
   "source": [
    "str(100) * 10\n"
   ]
  },
  {
   "cell_type": "code",
   "execution_count": 5,
   "id": "e8cb22a3",
   "metadata": {},
   "outputs": [
    {
     "ename": "TypeError",
     "evalue": "can't multiply sequence by non-int of type 'float'",
     "output_type": "error",
     "traceback": [
      "\u001b[0;31m---------------------------------------------------------------------------\u001b[0m",
      "\u001b[0;31mTypeError\u001b[0m                                 Traceback (most recent call last)",
      "Cell \u001b[0;32mIn[5], line 1\u001b[0m\n\u001b[0;32m----> 1\u001b[0m \u001b[38;5;124;43m'\u001b[39;49m\u001b[38;5;124;43mI love python\u001b[39;49m\u001b[38;5;124;43m'\u001b[39;49m\u001b[43m \u001b[49m\u001b[38;5;241;43m*\u001b[39;49m\u001b[43m \u001b[49m\u001b[38;5;241;43m1.2\u001b[39;49m\n",
      "\u001b[0;31mTypeError\u001b[0m: can't multiply sequence by non-int of type 'float'"
     ]
    }
   ],
   "source": [
    "'I love python' * 1.2\n"
   ]
  },
  {
   "cell_type": "code",
   "execution_count": 6,
   "id": "8bf21be5",
   "metadata": {},
   "outputs": [
    {
     "data": {
      "text/plain": [
       "'I love pythonI love python'"
      ]
     },
     "execution_count": 6,
     "metadata": {},
     "output_type": "execute_result"
    }
   ],
   "source": [
    "'I love python' * 2"
   ]
  },
  {
   "cell_type": "code",
   "execution_count": 7,
   "id": "a20f7080",
   "metadata": {},
   "outputs": [
    {
     "ename": "TypeError",
     "evalue": "can only concatenate str (not \"int\") to str",
     "output_type": "error",
     "traceback": [
      "\u001b[0;31m---------------------------------------------------------------------------\u001b[0m",
      "\u001b[0;31mTypeError\u001b[0m                                 Traceback (most recent call last)",
      "Cell \u001b[0;32mIn[7], line 1\u001b[0m\n\u001b[0;32m----> 1\u001b[0m \u001b[38;5;124;43m'\u001b[39;49m\u001b[38;5;124;43mfhfh\u001b[39;49m\u001b[38;5;124;43m'\u001b[39;49m\u001b[43m \u001b[49m\u001b[38;5;241;43m+\u001b[39;49m\u001b[43m \u001b[49m\u001b[38;5;241;43m10\u001b[39;49m\n",
      "\u001b[0;31mTypeError\u001b[0m: can only concatenate str (not \"int\") to str"
     ]
    }
   ],
   "source": [
    "'fhfh' + 10"
   ]
  },
  {
   "cell_type": "code",
   "execution_count": 8,
   "id": "4b69af3f",
   "metadata": {},
   "outputs": [
    {
     "name": "stdout",
     "output_type": "stream",
     "text": [
      "<class 'str'>\n"
     ]
    }
   ],
   "source": [
    "print(type('Python'))"
   ]
  },
  {
   "cell_type": "code",
   "execution_count": 9,
   "id": "003277d7",
   "metadata": {},
   "outputs": [
    {
     "data": {
      "text/plain": [
       "'H'"
      ]
     },
     "execution_count": 9,
     "metadata": {},
     "output_type": "execute_result"
    }
   ],
   "source": [
    "'Hello'[0]"
   ]
  },
  {
   "cell_type": "code",
   "execution_count": 10,
   "id": "ef95eaf5",
   "metadata": {},
   "outputs": [
    {
     "data": {
      "text/plain": [
       "'l'"
      ]
     },
     "execution_count": 10,
     "metadata": {},
     "output_type": "execute_result"
    }
   ],
   "source": [
    "'Hello'[2]"
   ]
  },
  {
   "cell_type": "code",
   "execution_count": 11,
   "id": "5309844d",
   "metadata": {},
   "outputs": [
    {
     "data": {
      "text/plain": [
       "'a'"
      ]
     },
     "execution_count": 11,
     "metadata": {},
     "output_type": "execute_result"
    }
   ],
   "source": [
    "'Hello cambodia'[-1]"
   ]
  },
  {
   "cell_type": "code",
   "execution_count": 12,
   "id": "920e38d8",
   "metadata": {},
   "outputs": [
    {
     "data": {
      "text/plain": [
       "'i'"
      ]
     },
     "execution_count": 12,
     "metadata": {},
     "output_type": "execute_result"
    }
   ],
   "source": [
    "'Hello cambodia'[-2]"
   ]
  },
  {
   "cell_type": "code",
   "execution_count": 13,
   "id": "21125b29",
   "metadata": {},
   "outputs": [
    {
     "ename": "IndexError",
     "evalue": "string index out of range",
     "output_type": "error",
     "traceback": [
      "\u001b[0;31m---------------------------------------------------------------------------\u001b[0m",
      "\u001b[0;31mIndexError\u001b[0m                                Traceback (most recent call last)",
      "Cell \u001b[0;32mIn[13], line 1\u001b[0m\n\u001b[0;32m----> 1\u001b[0m \u001b[38;5;124;43m'\u001b[39;49m\u001b[38;5;124;43mHello cambodia\u001b[39;49m\u001b[38;5;124;43m'\u001b[39;49m\u001b[43m[\u001b[49m\u001b[38;5;241;43m-\u001b[39;49m\u001b[38;5;241;43m30\u001b[39;49m\u001b[43m]\u001b[49m\n",
      "\u001b[0;31mIndexError\u001b[0m: string index out of range"
     ]
    }
   ],
   "source": [
    "'Hello cambodia'[-30]"
   ]
  },
  {
   "cell_type": "code",
   "execution_count": 14,
   "id": "5f191591",
   "metadata": {},
   "outputs": [
    {
     "data": {
      "text/plain": [
       "' '"
      ]
     },
     "execution_count": 14,
     "metadata": {},
     "output_type": "execute_result"
    }
   ],
   "source": [
    "'Hello cambodia'[-9]"
   ]
  },
  {
   "cell_type": "code",
   "execution_count": 15,
   "id": "649dc31a",
   "metadata": {},
   "outputs": [
    {
     "ename": "SyntaxError",
     "evalue": "incomplete input (989672203.py, line 1)",
     "output_type": "error",
     "traceback": [
      "\u001b[0;36m  Cell \u001b[0;32mIn[15], line 1\u001b[0;36m\u001b[0m\n\u001b[0;31m    text=\"\"\"First line second line\u001b[0m\n\u001b[0m         ^\u001b[0m\n\u001b[0;31mSyntaxError\u001b[0m\u001b[0;31m:\u001b[0m incomplete input\n"
     ]
    }
   ],
   "source": [
    "text=\"\"\"First line second line"
   ]
  },
  {
   "cell_type": "code",
   "execution_count": 16,
   "id": "b7f0d85e",
   "metadata": {},
   "outputs": [
    {
     "name": "stdout",
     "output_type": "stream",
     "text": [
      "First line second line\n"
     ]
    }
   ],
   "source": [
    "text=\"\"\"First line second line\"\"\"\n",
    "print(text)"
   ]
  },
  {
   "cell_type": "code",
   "execution_count": 17,
   "id": "53792b6d",
   "metadata": {},
   "outputs": [
    {
     "name": "stdout",
     "output_type": "stream",
     "text": [
      "First line\n",
      "second line\n"
     ]
    }
   ],
   "source": [
    "text=\"\"\"First line\n",
    "second line\"\"\"\n",
    "print(text)"
   ]
  },
  {
   "cell_type": "code",
   "execution_count": 18,
   "id": "952483f9",
   "metadata": {},
   "outputs": [
    {
     "ename": "SyntaxError",
     "evalue": "incomplete input (350290812.py, line 1)",
     "output_type": "error",
     "traceback": [
      "\u001b[0;36m  Cell \u001b[0;32mIn[18], line 1\u001b[0;36m\u001b[0m\n\u001b[0;31m    text=\"\"\"First line\u001b[0m\n\u001b[0m         ^\u001b[0m\n\u001b[0;31mSyntaxError\u001b[0m\u001b[0;31m:\u001b[0m incomplete input\n"
     ]
    }
   ],
   "source": [
    "text=\"\"\"First line\n",
    "second line\n",
    "do\n",
    "did\n",
    "done\"\n",
    "print(text)"
   ]
  },
  {
   "cell_type": "code",
   "execution_count": 19,
   "id": "3f50bfc9",
   "metadata": {},
   "outputs": [
    {
     "name": "stdout",
     "output_type": "stream",
     "text": [
      "First line\n",
      "second line\n",
      "do\n",
      "did\n",
      "done\n"
     ]
    }
   ],
   "source": [
    "text=\"\"\"First line\n",
    "second line\n",
    "do\n",
    "did\n",
    "done\"\"\"\n",
    "print(text)"
   ]
  },
  {
   "cell_type": "code",
   "execution_count": 20,
   "id": "2f66f8f0",
   "metadata": {},
   "outputs": [],
   "source": [
    "text='Learning is \\nessential'"
   ]
  },
  {
   "cell_type": "code",
   "execution_count": 21,
   "id": "5fe98e89",
   "metadata": {},
   "outputs": [
    {
     "name": "stdout",
     "output_type": "stream",
     "text": [
      "Learning is \n",
      "essential\n"
     ]
    }
   ],
   "source": [
    "text='Learning is \\nessential'\n",
    "print(text)"
   ]
  },
  {
   "cell_type": "code",
   "execution_count": 22,
   "id": "0bac7eb6",
   "metadata": {},
   "outputs": [
    {
     "name": "stdout",
     "output_type": "stream",
     "text": [
      "Learning is\n",
      "essential\n"
     ]
    }
   ],
   "source": [
    "text='Learning is\\nessential'\n",
    "print(text)"
   ]
  },
  {
   "cell_type": "code",
   "execution_count": 24,
   "id": "fbfa037b",
   "metadata": {},
   "outputs": [
    {
     "name": "stdout",
     "output_type": "stream",
     "text": [
      "\"Do you like apple?\"\n"
     ]
    }
   ],
   "source": [
    "text='\"Do you like apple?\"'\n",
    "print(text)"
   ]
  },
  {
   "cell_type": "code",
   "execution_count": 26,
   "id": "80f04f20",
   "metadata": {},
   "outputs": [
    {
     "name": "stdout",
     "output_type": "stream",
     "text": [
      "'Do you like bananas?'\n"
     ]
    }
   ],
   "source": [
    "text=\"'Do you like bananas?'\"\n",
    "print(text)"
   ]
  },
  {
   "cell_type": "code",
   "execution_count": 30,
   "id": "d39f0196",
   "metadata": {},
   "outputs": [
    {
     "name": "stdout",
     "output_type": "stream",
     "text": [
      "\"Bunthai\"\n"
     ]
    }
   ],
   "source": [
    "text=\"\\\"Bunthai\\\"\"\n",
    "print(text)"
   ]
  },
  {
   "cell_type": "code",
   "execution_count": 31,
   "id": "f204ab50",
   "metadata": {},
   "outputs": [
    {
     "name": "stdout",
     "output_type": "stream",
     "text": [
      "'Bunthai'\n"
     ]
    }
   ],
   "source": [
    "text='\\'Bunthai\\''\n",
    "print(text)"
   ]
  },
  {
   "cell_type": "code",
   "execution_count": 37,
   "id": "725b7092",
   "metadata": {},
   "outputs": [
    {
     "name": "stdout",
     "output_type": "stream",
     "text": [
      "write this \"How about now\" will show you\n"
     ]
    }
   ],
   "source": [
    "print('write this \\\"How about now\" will show you')"
   ]
  },
  {
   "cell_type": "code",
   "execution_count": 39,
   "id": "2e679650",
   "metadata": {},
   "outputs": [
    {
     "data": {
      "text/plain": [
       "'first value is 1 and second value is string'"
      ]
     },
     "execution_count": 39,
     "metadata": {},
     "output_type": "execute_result"
    }
   ],
   "source": [
    "value1=1\n",
    "value2='string'\n",
    "'first value is {} and second value is {}'.format(value1,value2)"
   ]
  },
  {
   "cell_type": "code",
   "execution_count": 40,
   "id": "61156f72",
   "metadata": {},
   "outputs": [
    {
     "data": {
      "text/plain": [
       "'Hello python'"
      ]
     },
     "execution_count": 40,
     "metadata": {},
     "output_type": "execute_result"
    }
   ],
   "source": [
    "'Hello {}'.format('python')"
   ]
  },
  {
   "cell_type": "code",
   "execution_count": 41,
   "id": "e2a309a0",
   "metadata": {},
   "outputs": [
    {
     "ename": "AttributeError",
     "evalue": "'dict' object has no attribute 'format'",
     "output_type": "error",
     "traceback": [
      "\u001b[0;31m---------------------------------------------------------------------------\u001b[0m",
      "\u001b[0;31mAttributeError\u001b[0m                            Traceback (most recent call last)",
      "Cell \u001b[0;32mIn[41], line 1\u001b[0m\n\u001b[0;32m----> 1\u001b[0m \u001b[38;5;241m3\u001b[39m \u001b[38;5;241m+\u001b[39m \u001b[43m{\u001b[49m\u001b[43m}\u001b[49m\u001b[38;5;241;43m.\u001b[39;49m\u001b[43mformat\u001b[49m(\u001b[38;5;241m3\u001b[39m)\n",
      "\u001b[0;31mAttributeError\u001b[0m: 'dict' object has no attribute 'format'"
     ]
    }
   ],
   "source": [
    "3 + {}.format(3)"
   ]
  },
  {
   "cell_type": "code",
   "execution_count": 42,
   "id": "031e91d9",
   "metadata": {},
   "outputs": [
    {
     "data": {
      "text/plain": [
       "'4 + 4'"
      ]
     },
     "execution_count": 42,
     "metadata": {},
     "output_type": "execute_result"
    }
   ],
   "source": [
    "'4 + {}'.format('4')"
   ]
  },
  {
   "cell_type": "code",
   "execution_count": 45,
   "id": "cd0b09e1",
   "metadata": {},
   "outputs": [
    {
     "data": {
      "text/plain": [
       "'6+4= 3'"
      ]
     },
     "execution_count": 45,
     "metadata": {},
     "output_type": "execute_result"
    }
   ],
   "source": [
    "'{2}+{1}= {0}'.format(1+2,4,4+2)"
   ]
  },
  {
   "cell_type": "code",
   "execution_count": 47,
   "id": "4cc39546",
   "metadata": {},
   "outputs": [
    {
     "data": {
      "text/plain": [
       "'hello,hello,hello,pyhton'"
      ]
     },
     "execution_count": 47,
     "metadata": {},
     "output_type": "execute_result"
    }
   ],
   "source": [
    "'{0},{0},{0},pyhton'.format('hello')"
   ]
  },
  {
   "cell_type": "code",
   "execution_count": 48,
   "id": "07d968fb",
   "metadata": {},
   "outputs": [
    {
     "data": {
      "text/plain": [
       "'       123'"
      ]
     },
     "execution_count": 48,
     "metadata": {},
     "output_type": "execute_result"
    }
   ],
   "source": [
    "'{:10}'.format(123)"
   ]
  },
  {
   "cell_type": "code",
   "execution_count": 49,
   "id": "3a87ed6e",
   "metadata": {},
   "outputs": [
    {
     "data": {
      "text/plain": [
       "'python    '"
      ]
     },
     "execution_count": 49,
     "metadata": {},
     "output_type": "execute_result"
    }
   ],
   "source": [
    "'{:10}'.format('python')"
   ]
  },
  {
   "cell_type": "code",
   "execution_count": 50,
   "id": "a5ab397a",
   "metadata": {},
   "outputs": [
    {
     "data": {
      "text/plain": [
       "'       1.4'"
      ]
     },
     "execution_count": 50,
     "metadata": {},
     "output_type": "execute_result"
    }
   ],
   "source": [
    "'{:10}'.format(1.4)"
   ]
  },
  {
   "cell_type": "code",
   "execution_count": 64,
   "id": "6d79dcf5",
   "metadata": {},
   "outputs": [
    {
     "name": "stdout",
     "output_type": "stream",
     "text": [
      "       123+         10\n",
      "123       \n",
      "       123\n",
      "   123    \n"
     ]
    }
   ],
   "source": [
    "value=123\n",
    "a=10\n",
    "format_value= '{:10}+ {:10}'.format(value,a)\n",
    "print(format_value)\n",
    "\n",
    "value=123\n",
    "format_value= '{:<10}'.format(value)\n",
    "print(format_value)\n",
    "\n",
    "value=123\n",
    "format_value= '{:>10}'.format(value)\n",
    "print(format_value)\n",
    "\n",
    "value=123\n",
    "format_value= '{:^10}'.format(value)\n",
    "print(format_value)\n"
   ]
  },
  {
   "cell_type": "code",
   "execution_count": 65,
   "id": "9e13464f",
   "metadata": {},
   "outputs": [
    {
     "data": {
      "text/plain": [
       "'       123'"
      ]
     },
     "execution_count": 65,
     "metadata": {},
     "output_type": "execute_result"
    }
   ],
   "source": [
    "'{:10d}'.format(123)\n"
   ]
  },
  {
   "cell_type": "code",
   "execution_count": 66,
   "id": "773f6274",
   "metadata": {},
   "outputs": [
    {
     "data": {
      "text/plain": [
       "'123.000000'"
      ]
     },
     "execution_count": 66,
     "metadata": {},
     "output_type": "execute_result"
    }
   ],
   "source": [
    "'{:10f}'.format(123)"
   ]
  },
  {
   "cell_type": "code",
   "execution_count": 67,
   "id": "88966383",
   "metadata": {},
   "outputs": [
    {
     "data": {
      "text/plain": [
       "'123.400000'"
      ]
     },
     "execution_count": 67,
     "metadata": {},
     "output_type": "execute_result"
    }
   ],
   "source": [
    "'{:10f}'.format(123.4)"
   ]
  },
  {
   "cell_type": "code",
   "execution_count": 69,
   "id": "e2c0c054",
   "metadata": {},
   "outputs": [
    {
     "data": {
      "text/plain": [
       "'         1'"
      ]
     },
     "execution_count": 69,
     "metadata": {},
     "output_type": "execute_result"
    }
   ],
   "source": [
    "'{:10d}'.format(1)"
   ]
  },
  {
   "cell_type": "code",
   "execution_count": 76,
   "id": "0253c630",
   "metadata": {},
   "outputs": [
    {
     "name": "stdout",
     "output_type": "stream",
     "text": [
      "      13.6\n",
      "13.600000 \n",
      " 13.600000\n",
      "13.600000 \n"
     ]
    }
   ],
   "source": [
    "value=13.6\n",
    "format_value= '{:10.1f}'.format(value)\n",
    "print(format_value)\n",
    "\n",
    "\n",
    "format_value= '{:<10f}'.format(value)\n",
    "print(format_value)\n",
    "\n",
    "format_value= '{:>10f}'.format(value)\n",
    "print(format_value)\n",
    "\n",
    "\n",
    "format_value= '{:^10f}'.format(value)\n",
    "print(format_value)\n"
   ]
  },
  {
   "cell_type": "code",
   "execution_count": 80,
   "id": "289cc5ba",
   "metadata": {},
   "outputs": [
    {
     "data": {
      "text/plain": [
       "['{i', 'love', 'python}']"
      ]
     },
     "execution_count": 80,
     "metadata": {},
     "output_type": "execute_result"
    }
   ],
   "source": [
    "# spliting string\n",
    "'{i love  python}'.split()"
   ]
  },
  {
   "cell_type": "code",
   "execution_count": 84,
   "id": "086e121f",
   "metadata": {},
   "outputs": [
    {
     "name": "stdout",
     "output_type": "stream",
     "text": [
      "Python is beautiful\n"
     ]
    }
   ],
   "source": [
    "word1,word2,word3= 'Python is beautiful'.split()\n",
    "print(word1,word2,word3)"
   ]
  },
  {
   "cell_type": "code",
   "execution_count": 86,
   "id": "acd0ea2c",
   "metadata": {},
   "outputs": [
    {
     "name": "stdout",
     "output_type": "stream",
     "text": [
      "2023 05 12\n"
     ]
    }
   ],
   "source": [
    "year,month,day='2023.05.12'.split('.')\n",
    "print(year,month,day)"
   ]
  },
  {
   "cell_type": "code",
   "execution_count": 92,
   "id": "462afbed",
   "metadata": {},
   "outputs": [
    {
     "name": "stdout",
     "output_type": "stream",
     "text": [
      "Dom neardy\n"
     ]
    }
   ],
   "source": [
    "text1,text2=\"Dom,neardy\".split(',')\n",
    "print(text1,text2)"
   ]
  },
  {
   "cell_type": "code",
   "execution_count": 98,
   "id": "0ed3585e",
   "metadata": {},
   "outputs": [
    {
     "name": "stdout",
     "output_type": "stream",
     "text": [
      "True\n",
      "False\n"
     ]
    }
   ],
   "source": [
    "#isdigit()\n",
    "string1='545'\n",
    "print(string1.isdigit())\n",
    "\n",
    "\n",
    "string2='3.4'\n",
    "print(string2.isdigit())"
   ]
  },
  {
   "cell_type": "code",
   "execution_count": 99,
   "id": "558e45f9",
   "metadata": {},
   "outputs": [
    {
     "ename": "ValueError",
     "evalue": "invalid literal for int() with base 10: 'hello'",
     "output_type": "error",
     "traceback": [
      "\u001b[0;31m---------------------------------------------------------------------------\u001b[0m",
      "\u001b[0;31mValueError\u001b[0m                                Traceback (most recent call last)",
      "Cell \u001b[0;32mIn[99], line 1\u001b[0m\n\u001b[0;32m----> 1\u001b[0m \u001b[38;5;28;43mint\u001b[39;49m\u001b[43m(\u001b[49m\u001b[38;5;124;43m'\u001b[39;49m\u001b[38;5;124;43mhello\u001b[39;49m\u001b[38;5;124;43m'\u001b[39;49m\u001b[43m)\u001b[49m\n",
      "\u001b[0;31mValueError\u001b[0m: invalid literal for int() with base 10: 'hello'"
     ]
    }
   ],
   "source": [
    "int('hello')"
   ]
  },
  {
   "cell_type": "code",
   "execution_count": 100,
   "id": "f3956ea0",
   "metadata": {},
   "outputs": [
    {
     "data": {
      "text/plain": [
       "3"
      ]
     },
     "execution_count": 100,
     "metadata": {},
     "output_type": "execute_result"
    }
   ],
   "source": [
    "int(3.2)"
   ]
  },
  {
   "cell_type": "code",
   "execution_count": 101,
   "id": "7e47d3df",
   "metadata": {},
   "outputs": [
    {
     "ename": "ValueError",
     "evalue": "invalid literal for int() with base 10: '2.3'",
     "output_type": "error",
     "traceback": [
      "\u001b[0;31m---------------------------------------------------------------------------\u001b[0m",
      "\u001b[0;31mValueError\u001b[0m                                Traceback (most recent call last)",
      "Cell \u001b[0;32mIn[101], line 1\u001b[0m\n\u001b[0;32m----> 1\u001b[0m \u001b[38;5;28;43mint\u001b[39;49m\u001b[43m(\u001b[49m\u001b[38;5;124;43m'\u001b[39;49m\u001b[38;5;124;43m2.3\u001b[39;49m\u001b[38;5;124;43m'\u001b[39;49m\u001b[43m)\u001b[49m\n",
      "\u001b[0;31mValueError\u001b[0m: invalid literal for int() with base 10: '2.3'"
     ]
    }
   ],
   "source": [
    "int('2.3')"
   ]
  },
  {
   "cell_type": "code",
   "execution_count": null,
   "id": "7a213f4b",
   "metadata": {},
   "outputs": [],
   "source": []
  }
 ],
 "metadata": {
  "kernelspec": {
   "display_name": "Python 3 (ipykernel)",
   "language": "python",
   "name": "python3"
  },
  "language_info": {
   "codemirror_mode": {
    "name": "ipython",
    "version": 3
   },
   "file_extension": ".py",
   "mimetype": "text/x-python",
   "name": "python",
   "nbconvert_exporter": "python",
   "pygments_lexer": "ipython3",
   "version": "3.10.9"
  }
 },
 "nbformat": 4,
 "nbformat_minor": 5
}
