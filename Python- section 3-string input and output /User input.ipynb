{
 "cells": [
  {
   "cell_type": "code",
   "execution_count": 2,
   "id": "5874b816",
   "metadata": {},
   "outputs": [
    {
     "name": "stdout",
     "output_type": "stream",
     "text": [
      "Please enter your name\n",
      "bunthai\n",
      "Hello bunthai\n"
     ]
    }
   ],
   "source": [
    "#input from user\n",
    "print('Please enter your name')\n",
    "name=input()\n",
    "print('Hello', name)"
   ]
  },
  {
   "cell_type": "code",
   "execution_count": 3,
   "id": "fe1f37e8",
   "metadata": {},
   "outputs": [
    {
     "name": "stdout",
     "output_type": "stream",
     "text": [
      "enter your nameThai\n",
      "hello Thai\n"
     ]
    }
   ],
   "source": [
    "name=input('enter your name')\n",
    "print('hello' , name)"
   ]
  },
  {
   "cell_type": "code",
   "execution_count": 10,
   "id": "ec331e26",
   "metadata": {
    "scrolled": false
   },
   "outputs": [
    {
     "name": "stdout",
     "output_type": "stream",
     "text": [
      "enter x:245\n",
      "enter y770\n",
      "sum is : 1015\n"
     ]
    }
   ],
   "source": [
    "#input as numeric\n",
    "x=int(input('enter x:'))\n",
    "y=int(input('enter y'))\n",
    "s=x+y\n",
    "print('sum is :',s)"
   ]
  },
  {
   "cell_type": "code",
   "execution_count": 12,
   "id": "29e7149d",
   "metadata": {},
   "outputs": [
    {
     "name": "stdout",
     "output_type": "stream",
     "text": [
      "Please enter your weight in kilogram(kg):70\n",
      "Please enter your height in meters(m):1.75\n",
      "your BMI is : 22.857142857142858\n"
     ]
    }
   ],
   "source": [
    "weight=float(input('Please enter your weight in kilogram(kg):'))\n",
    "height=float(input(\"Please enter your height in meters(m):\"))\n",
    "bmi=(weight / (height ** 2))\n",
    "print('your BMI is :',bmi)"
   ]
  },
  {
   "cell_type": "code",
   "execution_count": 16,
   "id": "5991f739",
   "metadata": {},
   "outputs": [
    {
     "name": "stdout",
     "output_type": "stream",
     "text": [
      "Please enter numberfdhgfr fdhgfh jdfghf\n",
      "fdhgfr fdhgfh jdfghf\n"
     ]
    }
   ],
   "source": [
    "#splitting numeric input from user\n",
    "num1,num2,num3=input(\"Please enter number\").split()\n",
    "print(num1,num2,num3)"
   ]
  },
  {
   "cell_type": "code",
   "execution_count": 18,
   "id": "fb287646",
   "metadata": {
    "scrolled": true
   },
   "outputs": [
    {
     "name": "stdout",
     "output_type": "stream",
     "text": [
      "Please enter number3,4,56\n",
      "3 4 56\n"
     ]
    }
   ],
   "source": [
    "num1,num2,num3=input(\"Please enter number\").split(',')\n",
    "print(num1,num2,num3)"
   ]
  },
  {
   "cell_type": "code",
   "execution_count": 21,
   "id": "28af16c6",
   "metadata": {},
   "outputs": [
    {
     "name": "stdout",
     "output_type": "stream",
     "text": [
      "please enter 3 values1,2,4\n",
      "1+2+4=7\n"
     ]
    }
   ],
   "source": [
    "num1,num2,num3=input('please enter 3 values').split(',')\n",
    "num1,num2,num3=int(num1),int(num2),int(num3)\n",
    "print('{}+{}+{}={}'.format(num1,num2,num3,num1+num2+num3))"
   ]
  },
  {
   "cell_type": "code",
   "execution_count": 23,
   "id": "5e4e6922",
   "metadata": {},
   "outputs": [
    {
     "name": "stdout",
     "output_type": "stream",
     "text": [
      "q1. please enter your name:bunthai\n",
      "bunthai\n"
     ]
    }
   ],
   "source": [
    "num=1\n",
    "text=\"name\"\n",
    "name=input('q{}. please enter your {}:'.format(num,text))\n",
    "print(name)"
   ]
  },
  {
   "cell_type": "code",
   "execution_count": 26,
   "id": "5faf8df0",
   "metadata": {},
   "outputs": [
    {
     "name": "stdout",
     "output_type": "stream",
     "text": [
      "money you put in :600\n",
      "price of goods200\n",
      "Change : 400\n",
      "The Number of 500 won coins 0\n",
      "the Number of 100 won coins 4\n"
     ]
    }
   ],
   "source": [
    "money=int(input('money you put in :'))\n",
    "price=int(input('price of goods'))\n",
    "\n",
    "change=money-price\n",
    "print(\"Change :\",change)\n",
    "coin500s=change // 500\n",
    "change=change % 500\n",
    "coin100s=change // 100\n",
    "\n",
    "print('The Number of 500 won coins',coin500s)\n",
    "print('the Number of 100 won coins',coin100s)"
   ]
  },
  {
   "cell_type": "code",
   "execution_count": 31,
   "id": "67f9c567",
   "metadata": {},
   "outputs": [
    {
     "name": "stdout",
     "output_type": "stream",
     "text": [
      "Hello, world\n"
     ]
    }
   ],
   "source": [
    "#string and ouput\n",
    "\n",
    "#end \n",
    "print('Hello', end=\", \")\n",
    "print(\"world\")"
   ]
  },
  {
   "cell_type": "code",
   "execution_count": 33,
   "id": "e329a34e",
   "metadata": {},
   "outputs": [
    {
     "name": "stdout",
     "output_type": "stream",
     "text": [
      "My name is  Kao vichet\n"
     ]
    }
   ],
   "source": [
    "print('My name is ', end=\" \")\n",
    "print(\"Kao vichet\")"
   ]
  },
  {
   "cell_type": "code",
   "execution_count": 37,
   "id": "da4c1156",
   "metadata": {},
   "outputs": [
    {
     "name": "stdout",
     "output_type": "stream",
     "text": [
      "hello , Kamchea\n"
     ]
    }
   ],
   "source": [
    "#seperate\n",
    "print('hello','Kamchea',sep=\" , \")"
   ]
  },
  {
   "cell_type": "code",
   "execution_count": 40,
   "id": "ed59d05c",
   "metadata": {},
   "outputs": [
    {
     "name": "stdout",
     "output_type": "stream",
     "text": [
      "please enter your name:bunthai\n",
      "Please enter Your age:21\n",
      "Please enter your job:student\n",
      "My name is: bunthai,I am 21,I am a student\n"
     ]
    }
   ],
   "source": [
    "#output using string format\n",
    "name=input(\"please enter your name:\")\n",
    "age=int(input(\"Please enter Your age:\"))\n",
    "job=input(\"Please enter your job:\")\n",
    "print('My name is: {0},I am {1},I am a {2}'.format(name,age,job))"
   ]
  },
  {
   "cell_type": "code",
   "execution_count": 41,
   "id": "28148c31",
   "metadata": {},
   "outputs": [
    {
     "name": "stdout",
     "output_type": "stream",
     "text": [
      "Please enter numbergfgf\n"
     ]
    },
    {
     "ename": "ValueError",
     "evalue": "invalid literal for int() with base 10: 'gfgf'",
     "output_type": "error",
     "traceback": [
      "\u001b[0;31m---------------------------------------------------------------------------\u001b[0m",
      "\u001b[0;31mValueError\u001b[0m                                Traceback (most recent call last)",
      "Cell \u001b[0;32mIn[41], line 2\u001b[0m\n\u001b[1;32m      1\u001b[0m \u001b[38;5;66;03m#runtime error\u001b[39;00m\n\u001b[0;32m----> 2\u001b[0m num\u001b[38;5;241m=\u001b[39m\u001b[38;5;28;43mint\u001b[39;49m\u001b[43m(\u001b[49m\u001b[38;5;28;43minput\u001b[39;49m\u001b[43m(\u001b[49m\u001b[38;5;124;43m\"\u001b[39;49m\u001b[38;5;124;43mPlease enter number\u001b[39;49m\u001b[38;5;124;43m\"\u001b[39;49m\u001b[43m)\u001b[49m\u001b[43m)\u001b[49m\n",
      "\u001b[0;31mValueError\u001b[0m: invalid literal for int() with base 10: 'gfgf'"
     ]
    }
   ],
   "source": [
    "#runtime error\n",
    "num=int(input(\"Please enter number\"))"
   ]
  },
  {
   "cell_type": "code",
   "execution_count": 42,
   "id": "3ea221e3",
   "metadata": {},
   "outputs": [
    {
     "data": {
      "text/plain": [
       "700"
      ]
     },
     "execution_count": 42,
     "metadata": {},
     "output_type": "execute_result"
    }
   ],
   "source": [
    "eval(\"100+400+200\")\n"
   ]
  },
  {
   "cell_type": "code",
   "execution_count": 44,
   "id": "b931a06f",
   "metadata": {},
   "outputs": [
    {
     "ename": "NameError",
     "evalue": "name 'fguhgfd' is not defined",
     "output_type": "error",
     "traceback": [
      "\u001b[0;31m---------------------------------------------------------------------------\u001b[0m",
      "\u001b[0;31mNameError\u001b[0m                                 Traceback (most recent call last)",
      "Cell \u001b[0;32mIn[44], line 1\u001b[0m\n\u001b[0;32m----> 1\u001b[0m \u001b[38;5;28;43meval\u001b[39;49m\u001b[43m(\u001b[49m\u001b[38;5;124;43m'\u001b[39;49m\u001b[38;5;124;43mfguhgfd +fhbhjf\u001b[39;49m\u001b[38;5;124;43m'\u001b[39;49m\u001b[43m)\u001b[49m\n",
      "File \u001b[0;32m<string>:1\u001b[0m\n",
      "\u001b[0;31mNameError\u001b[0m: name 'fguhgfd' is not defined"
     ]
    }
   ],
   "source": [
    "eval('fguhgfd +fhbhjf')"
   ]
  },
  {
   "cell_type": "code",
   "execution_count": 46,
   "id": "fda73e9f",
   "metadata": {},
   "outputs": [
    {
     "data": {
      "text/plain": [
       "100"
      ]
     },
     "execution_count": 46,
     "metadata": {},
     "output_type": "execute_result"
    }
   ],
   "source": [
    "abs(100)"
   ]
  },
  {
   "cell_type": "code",
   "execution_count": 47,
   "id": "2c92275b",
   "metadata": {},
   "outputs": [
    {
     "data": {
      "text/plain": [
       "44"
      ]
     },
     "execution_count": 47,
     "metadata": {},
     "output_type": "execute_result"
    }
   ],
   "source": [
    "min(100,44,449)"
   ]
  },
  {
   "cell_type": "code",
   "execution_count": 54,
   "id": "ba16f266",
   "metadata": {},
   "outputs": [
    {
     "ename": "NameError",
     "evalue": "name 'false' is not defined",
     "output_type": "error",
     "traceback": [
      "\u001b[0;31m---------------------------------------------------------------------------\u001b[0m",
      "\u001b[0;31mNameError\u001b[0m                                 Traceback (most recent call last)",
      "Cell \u001b[0;32mIn[54], line 1\u001b[0m\n\u001b[0;32m----> 1\u001b[0m \u001b[38;5;28msorted\u001b[39m(\u001b[38;5;124m'\u001b[39m\u001b[38;5;124mDFGBHDF\u001b[39m\u001b[38;5;124m'\u001b[39m,reverse \u001b[38;5;241m=\u001b[39m \u001b[43mfalse\u001b[49m)\n",
      "\u001b[0;31mNameError\u001b[0m: name 'false' is not defined"
     ]
    }
   ],
   "source": [
    "sorted('DFGBHDF',reverse = false)"
   ]
  },
  {
   "cell_type": "code",
   "execution_count": 56,
   "id": "8f83e4a8",
   "metadata": {},
   "outputs": [
    {
     "data": {
      "text/plain": [
       "datetime.datetime(2023, 12, 25, 11, 42, 2, 748926)"
      ]
     },
     "execution_count": 56,
     "metadata": {},
     "output_type": "execute_result"
    }
   ],
   "source": [
    "import datetime as dt\n",
    "start_time = dt.datetime.now()\n",
    "start_time.replace(month = 12, day = 25)"
   ]
  },
  {
   "cell_type": "code",
   "execution_count": 57,
   "id": "6d479a64",
   "metadata": {},
   "outputs": [
    {
     "data": {
      "text/plain": [
       "datetime.datetime(2023, 12, 25, 11, 47, 28, 391364)"
      ]
     },
     "execution_count": 57,
     "metadata": {},
     "output_type": "execute_result"
    }
   ],
   "source": [
    "from datetime import datetime\n",
    "start_time=datetime.now()\n",
    "start_time.replace(month = 12,day = 25)"
   ]
  },
  {
   "cell_type": "code",
   "execution_count": 58,
   "id": "dd620502",
   "metadata": {},
   "outputs": [
    {
     "data": {
      "text/plain": [
       "datetime.date(2023, 7, 6)"
      ]
     },
     "execution_count": 58,
     "metadata": {},
     "output_type": "execute_result"
    }
   ],
   "source": [
    "from datetime import *\n",
    "today = date.today()\n",
    "today"
   ]
  },
  {
   "cell_type": "code",
   "execution_count": 59,
   "id": "ca4d1781",
   "metadata": {},
   "outputs": [
    {
     "data": {
      "text/plain": [
       "datetime.datetime(2023, 7, 6, 11, 56, 17, 41788)"
      ]
     },
     "execution_count": 59,
     "metadata": {},
     "output_type": "execute_result"
    }
   ],
   "source": [
    "import datetime\n",
    "datetime.datetime.now()"
   ]
  },
  {
   "cell_type": "code",
   "execution_count": 1,
   "id": "2998e3f6",
   "metadata": {},
   "outputs": [
    {
     "data": {
      "text/plain": [
       "time.struct_time(tm_year=2023, tm_mon=7, tm_mday=7, tm_hour=8, tm_min=34, tm_sec=36, tm_wday=4, tm_yday=188, tm_isdst=0)"
      ]
     },
     "execution_count": 1,
     "metadata": {},
     "output_type": "execute_result"
    }
   ],
   "source": [
    "import time\n",
    "unix_timestamp=time.time()\n",
    "local_time=time.localtime(unix_timestamp)\n",
    "local_time"
   ]
  },
  {
   "cell_type": "code",
   "execution_count": 2,
   "id": "642593ce",
   "metadata": {},
   "outputs": [
    {
     "name": "stdout",
     "output_type": "stream",
     "text": [
      "23-07-07 08-43-03\n"
     ]
    }
   ],
   "source": [
    "import time\n",
    "unix_timestamp = time.time()\n",
    "local_time = time.localtime(unix_timestamp)\n",
    "print(time.strftime('%y-%m-%d %H-%M-%S',local_time))"
   ]
  },
  {
   "cell_type": "code",
   "execution_count": 3,
   "id": "d21145cf",
   "metadata": {},
   "outputs": [
    {
     "name": "stdout",
     "output_type": "stream",
     "text": [
      "['__doc__', '__file__', '__loader__', '__name__', '__package__', '__spec__', 'acos', 'acosh', 'asin', 'asinh', 'atan', 'atan2', 'atanh', 'ceil', 'comb', 'copysign', 'cos', 'cosh', 'degrees', 'dist', 'e', 'erf', 'erfc', 'exp', 'expm1', 'fabs', 'factorial', 'floor', 'fmod', 'frexp', 'fsum', 'gamma', 'gcd', 'hypot', 'inf', 'isclose', 'isfinite', 'isinf', 'isnan', 'isqrt', 'lcm', 'ldexp', 'lgamma', 'log', 'log10', 'log1p', 'log2', 'modf', 'nan', 'nextafter', 'perm', 'pi', 'pow', 'prod', 'radians', 'remainder', 'sin', 'sinh', 'sqrt', 'tan', 'tanh', 'tau', 'trunc', 'ulp']\n"
     ]
    }
   ],
   "source": [
    "import math\n",
    "print(dir(math))"
   ]
  },
  {
   "cell_type": "code",
   "execution_count": 4,
   "id": "5fb737ab",
   "metadata": {},
   "outputs": [
    {
     "data": {
      "text/plain": [
       "0.0"
      ]
     },
     "execution_count": 4,
     "metadata": {},
     "output_type": "execute_result"
    }
   ],
   "source": [
    "import math as m\n",
    "m.sin(0.0)"
   ]
  },
  {
   "cell_type": "code",
   "execution_count": null,
   "id": "f1c8b0a9",
   "metadata": {},
   "outputs": [],
   "source": []
  }
 ],
 "metadata": {
  "kernelspec": {
   "display_name": "Python 3 (ipykernel)",
   "language": "python",
   "name": "python3"
  },
  "language_info": {
   "codemirror_mode": {
    "name": "ipython",
    "version": 3
   },
   "file_extension": ".py",
   "mimetype": "text/x-python",
   "name": "python",
   "nbconvert_exporter": "python",
   "pygments_lexer": "ipython3",
   "version": "3.10.9"
  }
 },
 "nbformat": 4,
 "nbformat_minor": 5
}
