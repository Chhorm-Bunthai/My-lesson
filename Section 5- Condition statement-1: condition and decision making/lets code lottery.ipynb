{
 "cells": [
  {
   "cell_type": "code",
   "execution_count": null,
   "id": "e14f8060",
   "metadata": {
    "scrolled": true
   },
   "outputs": [],
   "source": [
    "user=int(input(\"Please enter your Lucky number :\").split*=( ))\n",
    "if user == 2 and user == 3 and user == 9:\n",
    "    print(\"You won the lottery\")\n",
    "else:\n",
    "    print(\"Unlucky you\")"
   ]
  },
  {
   "cell_type": "code",
   "execution_count": null,
   "id": "87214ce9",
   "metadata": {},
   "outputs": [],
   "source": []
  }
 ],
 "metadata": {
  "kernelspec": {
   "display_name": "Python 3 (ipykernel)",
   "language": "python",
   "name": "python3"
  },
  "language_info": {
   "codemirror_mode": {
    "name": "ipython",
    "version": 3
   },
   "file_extension": ".py",
   "mimetype": "text/x-python",
   "name": "python",
   "nbconvert_exporter": "python",
   "pygments_lexer": "ipython3",
   "version": "3.10.9"
  }
 },
 "nbformat": 4,
 "nbformat_minor": 5
}
