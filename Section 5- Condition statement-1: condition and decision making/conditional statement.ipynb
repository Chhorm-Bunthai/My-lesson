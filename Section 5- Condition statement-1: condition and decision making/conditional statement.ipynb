{
 "cells": [
  {
   "cell_type": "code",
   "execution_count": 16,
   "id": "98921056",
   "metadata": {},
   "outputs": [
    {
     "name": "stdout",
     "output_type": "stream",
     "text": [
      "age 24\n",
      "welcome\n"
     ]
    }
   ],
   "source": [
    "age =24\n",
    "print('age',age)\n",
    "if age < 20 :\n",
    "    print('youth age')\n",
    "    print('Youth discount')\n",
    "print('welcome')"
   ]
  },
  {
   "cell_type": "code",
   "execution_count": 13,
   "id": "51d29fac",
   "metadata": {},
   "outputs": [],
   "source": [
    "age =18\n",
    "if age < 20:\n",
    "    pass"
   ]
  },
  {
   "cell_type": "code",
   "execution_count": 18,
   "id": "8ae15ed6",
   "metadata": {},
   "outputs": [
    {
     "name": "stdout",
     "output_type": "stream",
     "text": [
      "Enter your id :david\n",
      "ID match\n"
     ]
    }
   ],
   "source": [
    "my_id = 'david'\n",
    "s=input('Enter your id :')\n",
    "if s == my_id:\n",
    "    print('ID match')"
   ]
  },
  {
   "cell_type": "code",
   "execution_count": 24,
   "id": "3e83cc82",
   "metadata": {},
   "outputs": [
    {
     "name": "stdout",
     "output_type": "stream",
     "text": [
      "enter an integer :21\n",
      "21 is a multiple of 3.\n"
     ]
    }
   ],
   "source": [
    "number=int(input(\"enter an integer :\"))\n",
    "if ( number % 3)==0:\n",
    "    print(number,\"is a multiple of 3.\")"
   ]
  },
  {
   "cell_type": "code",
   "execution_count": 28,
   "id": "e8b1138c",
   "metadata": {},
   "outputs": [
    {
     "name": "stdout",
     "output_type": "stream",
     "text": [
      "enter an integer :75\n",
      "75 is a multiple of 3 and a multiple of 5.\n"
     ]
    }
   ],
   "source": [
    "number = int(input('enter an integer :'))\n",
    "if (number % 3) == 0 and (number %5) == 0:\n",
    "    print(number,\"is a multiple of 3 and a multiple of 5.\")"
   ]
  },
  {
   "cell_type": "code",
   "execution_count": 32,
   "id": "7bd576e2",
   "metadata": {},
   "outputs": [
    {
     "name": "stdout",
     "output_type": "stream",
     "text": [
      "Enter an integer :50\n",
      "n = 50\n",
      "50  is an even number.\n"
     ]
    }
   ],
   "source": [
    "n=int(input('Enter an integer :'))\n",
    "print(\"n =\",n)\n",
    "if n % 2 == 0:\n",
    "    print(n,\" is an even number.\")"
   ]
  },
  {
   "cell_type": "code",
   "execution_count": 33,
   "id": "6dfed765",
   "metadata": {},
   "outputs": [
    {
     "name": "stdout",
     "output_type": "stream",
     "text": [
      "The two strings are not the same.\n"
     ]
    }
   ],
   "source": [
    "str1='aaa'\n",
    "str2='bbb'\n",
    "if str1 == str2:\n",
    "    print('The two strings are the same.')\n",
    "if str1 != str2:\n",
    "    print('The two strings are not the same.')"
   ]
  },
  {
   "cell_type": "code",
   "execution_count": 35,
   "id": "5f7d15ec",
   "metadata": {},
   "outputs": [
    {
     "name": "stdout",
     "output_type": "stream",
     "text": [
      "Enter your score93\n",
      "congratulation\n",
      "You passed\n",
      "You can also get a scholarship\n"
     ]
    }
   ],
   "source": [
    "score = int(input(\"Enter your score\"))\n",
    "if score >= 90:\n",
    "    print(\"congratulation\")\n",
    "    print(\"You passed\")\n",
    "    print(\"You can also get a scholarship\")"
   ]
  },
  {
   "cell_type": "code",
   "execution_count": null,
   "id": "11df70b5",
   "metadata": {},
   "outputs": [],
   "source": []
  }
 ],
 "metadata": {
  "kernelspec": {
   "display_name": "Python 3 (ipykernel)",
   "language": "python",
   "name": "python3"
  },
  "language_info": {
   "codemirror_mode": {
    "name": "ipython",
    "version": 3
   },
   "file_extension": ".py",
   "mimetype": "text/x-python",
   "name": "python",
   "nbconvert_exporter": "python",
   "pygments_lexer": "ipython3",
   "version": "3.10.9"
  }
 },
 "nbformat": 4,
 "nbformat_minor": 5
}
