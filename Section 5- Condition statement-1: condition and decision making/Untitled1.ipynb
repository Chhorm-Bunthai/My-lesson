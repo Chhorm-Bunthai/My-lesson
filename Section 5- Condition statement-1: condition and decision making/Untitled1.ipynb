{
 "cells": [
  {
   "cell_type": "code",
   "execution_count": 35,
   "id": "12394388",
   "metadata": {},
   "outputs": [
    {
     "name": "stdout",
     "output_type": "stream",
     "text": [
      "please enter Number9 3 2\n",
      "You won\n"
     ]
    }
   ],
   "source": [
    "num1,num2,num3=input(\"please enter Number\").split()\n",
    "num1,num2,num3=int(num1),int(num2),int(num3)\n",
    "a,b,c=2,3,9\n",
    "n=0\n",
    "if num1 == a or num1 == b or num1 == c:\n",
    "    n+=1\n",
    "if num2 == a or num2 == b or num2 == c:\n",
    "    n+=1\n",
    "if num3 == a or num3 == b or num3 == c:\n",
    "    n+=1\n",
    "if n==3 :\n",
    "    print(\"You won\")\n",
    "else:\n",
    "    print(\"try again\")"
   ]
  },
  {
   "cell_type": "code",
   "execution_count": null,
   "id": "24a42150",
   "metadata": {},
   "outputs": [],
   "source": []
  },
  {
   "cell_type": "code",
   "execution_count": null,
   "id": "e4d5cdad",
   "metadata": {},
   "outputs": [],
   "source": []
  }
 ],
 "metadata": {
  "kernelspec": {
   "display_name": "Python 3 (ipykernel)",
   "language": "python",
   "name": "python3"
  },
  "language_info": {
   "codemirror_mode": {
    "name": "ipython",
    "version": 3
   },
   "file_extension": ".py",
   "mimetype": "text/x-python",
   "name": "python",
   "nbconvert_exporter": "python",
   "pygments_lexer": "ipython3",
   "version": "3.10.9"
  }
 },
 "nbformat": 4,
 "nbformat_minor": 5
}
