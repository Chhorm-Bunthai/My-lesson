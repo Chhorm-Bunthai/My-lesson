{
 "cells": [
  {
   "cell_type": "code",
   "execution_count": 5,
   "id": "d0413c0e",
   "metadata": {},
   "outputs": [
    {
     "name": "stdout",
     "output_type": "stream",
     "text": [
      "Please enter your age :9\n",
      "Kids\n"
     ]
    }
   ],
   "source": [
    "age=int(input(\"Please enter your age :\"))\n",
    "if age >=20 :\n",
    "    print(\"Adult\")\n",
    "elif age <20 and age >10:\n",
    "    print(\"Youth\")\n",
    "else:\n",
    "    print(\"Kids\")"
   ]
  },
  {
   "cell_type": "code",
   "execution_count": 6,
   "id": "7a8f931d",
   "metadata": {},
   "outputs": [
    {
     "name": "stdout",
     "output_type": "stream",
     "text": [
      "Your age :65\n",
      "Your height :110\n",
      "You can enter\n"
     ]
    }
   ],
   "source": [
    "age=int(input(\"Your age :\"))\n",
    "height=int(input(\"Your height :\"))\n",
    "if (age >=64 and height >=110):\n",
    "    print(\"You can enter\")\n",
    "else :\n",
    "    print(\" You cannot enter\")"
   ]
  },
  {
   "cell_type": "code",
   "execution_count": null,
   "id": "f4e0947a",
   "metadata": {},
   "outputs": [],
   "source": []
  }
 ],
 "metadata": {
  "kernelspec": {
   "display_name": "Python 3 (ipykernel)",
   "language": "python",
   "name": "python3"
  },
  "language_info": {
   "codemirror_mode": {
    "name": "ipython",
    "version": 3
   },
   "file_extension": ".py",
   "mimetype": "text/x-python",
   "name": "python",
   "nbconvert_exporter": "python",
   "pygments_lexer": "ipython3",
   "version": "3.10.9"
  }
 },
 "nbformat": 4,
 "nbformat_minor": 5
}
