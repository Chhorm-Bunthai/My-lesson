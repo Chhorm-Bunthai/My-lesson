{
 "cells": [
  {
   "cell_type": "code",
   "execution_count": 1,
   "id": "2a7d5e70",
   "metadata": {},
   "outputs": [
    {
     "name": "stdout",
     "output_type": "stream",
     "text": [
      "please enter text :love\n",
      "True\n"
     ]
    }
   ],
   "source": [
    "text=input(\"please enter text :\")\n",
    "txt=('a' in text) or ('e' in text) or ('i' in text) or ('o' in text) or ('u' in text)\n",
    "print(txt)"
   ]
  },
  {
   "cell_type": "code",
   "execution_count": null,
   "id": "1216863b",
   "metadata": {},
   "outputs": [],
   "source": []
  }
 ],
 "metadata": {
  "kernelspec": {
   "display_name": "Python 3 (ipykernel)",
   "language": "python",
   "name": "python3"
  },
  "language_info": {
   "codemirror_mode": {
    "name": "ipython",
    "version": 3
   },
   "file_extension": ".py",
   "mimetype": "text/x-python",
   "name": "python",
   "nbconvert_exporter": "python",
   "pygments_lexer": "ipython3",
   "version": "3.10.9"
  }
 },
 "nbformat": 4,
 "nbformat_minor": 5
}
