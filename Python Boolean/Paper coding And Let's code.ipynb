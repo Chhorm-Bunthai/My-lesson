{
 "cells": [
  {
   "cell_type": "code",
   "execution_count": 47,
   "id": "23bda1b0",
   "metadata": {},
   "outputs": [
    {
     "name": "stdout",
     "output_type": "stream",
     "text": [
      "enter number :6\n",
      "Is this number odd? True\n"
     ]
    }
   ],
   "source": [
    "number = int(input('enter number :'))\n",
    "print('Is this number odd?',number % 2 == 0)"
   ]
  },
  {
   "cell_type": "code",
   "execution_count": 56,
   "id": "ad0bdbcb",
   "metadata": {
    "scrolled": true
   },
   "outputs": [
    {
     "name": "stdout",
     "output_type": "stream",
     "text": [
      "Enter a number :12\n",
      "Is the entered integer an even number within the range of 10? False\n"
     ]
    }
   ],
   "source": [
    "number = int(input(\"Enter a number :\"))\n",
    "print(\"Is the entered integer an even number within the range of 10?\", number % 2 == 0 and number <=10)"
   ]
  },
  {
   "cell_type": "code",
   "execution_count": 69,
   "id": "f7cb7759",
   "metadata": {},
   "outputs": [
    {
     "name": "stdout",
     "output_type": "stream",
     "text": [
      "Enter year :2024\n",
      "This is Leap year\n"
     ]
    }
   ],
   "source": [
    "# Let's code\n",
    "year = int(input('Enter year :'))\n",
    "if (year % 4 == 0 and year % 100 != 0) or ( year % 400 == 0):\n",
    "    print(\"This is Leap year\")\n",
    "else :\n",
    "    print(\"This is not leap year\")"
   ]
  },
  {
   "cell_type": "code",
   "execution_count": 73,
   "id": "f8243847",
   "metadata": {},
   "outputs": [
    {
     "name": "stdout",
     "output_type": "stream",
     "text": [
      "please enter the year :2024\n",
      "True\n"
     ]
    }
   ],
   "source": [
    "year = int(input(\"please enter the year :\"))\n",
    "leap_year = (year % 4 == 0 and year % 100 != 0) or year % 400 == 0\n",
    "print(leap_year)"
   ]
  },
  {
   "cell_type": "code",
   "execution_count": 96,
   "id": "eedf59da",
   "metadata": {},
   "outputs": [
    {
     "name": "stdout",
     "output_type": "stream",
     "text": [
      "Please enter three digit :998\n",
      "False\n"
     ]
    }
   ],
   "source": [
    "# pair programming\n",
    "name =int(input(\"Please enter three digit :\"))\n",
    "output= (name >=300 and name <400)\n",
    "print(output)"
   ]
  },
  {
   "cell_type": "code",
   "execution_count": 94,
   "id": "0a2bb45f",
   "metadata": {},
   "outputs": [
    {
     "name": "stdout",
     "output_type": "stream",
     "text": [
      "Enter an integer :45\n",
      "True\n"
     ]
    }
   ],
   "source": [
    "# pair programming\n",
    "number = int(input('Enter an integer :'))\n",
    "output = number % 5 == 0\n",
    "print(output)"
   ]
  },
  {
   "cell_type": "code",
   "execution_count": null,
   "id": "0c982ec9",
   "metadata": {},
   "outputs": [],
   "source": []
  }
 ],
 "metadata": {
  "kernelspec": {
   "display_name": "Python 3 (ipykernel)",
   "language": "python",
   "name": "python3"
  },
  "language_info": {
   "codemirror_mode": {
    "name": "ipython",
    "version": 3
   },
   "file_extension": ".py",
   "mimetype": "text/x-python",
   "name": "python",
   "nbconvert_exporter": "python",
   "pygments_lexer": "ipython3",
   "version": "3.10.9"
  }
 },
 "nbformat": 4,
 "nbformat_minor": 5
}
