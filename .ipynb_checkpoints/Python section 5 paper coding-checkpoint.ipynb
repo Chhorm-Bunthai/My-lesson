{
 "cells": [
  {
   "cell_type": "code",
   "execution_count": 9,
   "id": "412e5c18",
   "metadata": {},
   "outputs": [
    {
     "name": "stdout",
     "output_type": "stream",
     "text": [
      "Please enter score :55\n",
      "Game_score =  55\n"
     ]
    }
   ],
   "source": [
    "game_score=int(input(\"Please enter score :\"))\n",
    "if game_score >=1000:\n",
    "    print(\"You are a pro\")\n",
    "else:\n",
    "    print(\"Game_score = \",game_score)"
   ]
  },
  {
   "cell_type": "code",
   "execution_count": 24,
   "id": "8b0756ad",
   "metadata": {},
   "outputs": [
    {
     "name": "stdout",
     "output_type": "stream",
     "text": [
      "x= 0.3519384660166853\n"
     ]
    }
   ],
   "source": [
    "from random import random\n",
    "x=random()\n",
    "if x >=1:\n",
    "    print(x,\" is a natural number\")\n",
    "else:\n",
    "    print(\"x=\",x)"
   ]
  },
  {
   "cell_type": "code",
   "execution_count": null,
   "id": "6cbcd25a",
   "metadata": {},
   "outputs": [],
   "source": []
  }
 ],
 "metadata": {
  "kernelspec": {
   "display_name": "Python 3 (ipykernel)",
   "language": "python",
   "name": "python3"
  },
  "language_info": {
   "codemirror_mode": {
    "name": "ipython",
    "version": 3
   },
   "file_extension": ".py",
   "mimetype": "text/x-python",
   "name": "python",
   "nbconvert_exporter": "python",
   "pygments_lexer": "ipython3",
   "version": "3.10.9"
  }
 },
 "nbformat": 4,
 "nbformat_minor": 5
}
