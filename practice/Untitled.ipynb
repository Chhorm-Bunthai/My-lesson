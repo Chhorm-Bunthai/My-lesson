{
 "cells": [
  {
   "cell_type": "code",
   "execution_count": 28,
   "id": "549e07bd",
   "metadata": {},
   "outputs": [
    {
     "name": "stdout",
     "output_type": "stream",
     "text": [
      "enter nameLyeng\n",
      "Name**Is**Lyeng\n"
     ]
    }
   ],
   "source": [
    "name=input('enter name')\n",
    "print('Name',\"Is\",name,sep=\"**\")"
   ]
  },
  {
   "cell_type": "code",
   "execution_count": 20,
   "id": "a72dd8e5",
   "metadata": {},
   "outputs": [
    {
     "name": "stdout",
     "output_type": "stream",
     "text": [
      "please enter decimal to convert2\n",
      "decimal is:0b10\n",
      "octal is 0o2\n",
      "hexa is 0x2\n"
     ]
    }
   ],
   "source": [
    "decimal=int(input('please enter decimal to convert'))\n",
    "bi=bin(decimal)\n",
    "he=hex(decimal)\n",
    "oc=oct(decimal)\n",
    "print('decimal is:{}'.format(bi))\n",
    "print('octal is {}'.format(oc))\n",
    "print('hexa is {}'.format(he))"
   ]
  },
  {
   "cell_type": "code",
   "execution_count": 26,
   "id": "6d45cb32",
   "metadata": {},
   "outputs": [
    {
     "name": "stdout",
     "output_type": "stream",
     "text": [
      "s3 is :afbecd\n"
     ]
    }
   ],
   "source": [
    "s1='abc'\n",
    "s2='def'\n",
    "s3=s1[0]+s2[2]\n",
    "print('s3 is :{}{}{}{}{}{}'.format(s1[0],s2[2],s1[1],s2[1],s1[2],s2[0]))"
   ]
  },
  {
   "cell_type": "code",
   "execution_count": null,
   "id": "8fb69e02",
   "metadata": {},
   "outputs": [],
   "source": []
  }
 ],
 "metadata": {
  "kernelspec": {
   "display_name": "Python 3 (ipykernel)",
   "language": "python",
   "name": "python3"
  },
  "language_info": {
   "codemirror_mode": {
    "name": "ipython",
    "version": 3
   },
   "file_extension": ".py",
   "mimetype": "text/x-python",
   "name": "python",
   "nbconvert_exporter": "python",
   "pygments_lexer": "ipython3",
   "version": "3.10.9"
  }
 },
 "nbformat": 4,
 "nbformat_minor": 5
}
