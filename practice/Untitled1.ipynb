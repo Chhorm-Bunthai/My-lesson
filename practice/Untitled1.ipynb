{
 "cells": [
  {
   "cell_type": "code",
   "execution_count": null,
   "id": "589bb61b",
   "metadata": {},
   "outputs": [],
   "source": [
    "text=input('enter text:')\n",
    "if len(text) < 3:\n",
    "    print(text)\n",
    "elif len(text) >=3:\n",
    "    if text[-3:] == \"ing\":\n",
    "        print(text + \"ly\")\n",
    "    else:\n",
    "        print(text + \"ing\")\n",
    "\n",
    "    "
   ]
  },
  {
   "cell_type": "code",
   "execution_count": null,
   "id": "5081afe7",
   "metadata": {},
   "outputs": [],
   "source": []
  }
 ],
 "metadata": {
  "kernelspec": {
   "display_name": "Python 3 (ipykernel)",
   "language": "python",
   "name": "python3"
  },
  "language_info": {
   "codemirror_mode": {
    "name": "ipython",
    "version": 3
   },
   "file_extension": ".py",
   "mimetype": "text/x-python",
   "name": "python",
   "nbconvert_exporter": "python",
   "pygments_lexer": "ipython3",
   "version": "3.10.9"
  }
 },
 "nbformat": 4,
 "nbformat_minor": 5
}
